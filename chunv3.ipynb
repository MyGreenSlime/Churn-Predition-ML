{
 "cells": [
  {
   "cell_type": "code",
   "execution_count": 1,
   "metadata": {},
   "outputs": [],
   "source": [
    "import pandas as pd\n",
    "import numpy as np"
   ]
  },
  {
   "cell_type": "code",
   "execution_count": 2,
   "metadata": {},
   "outputs": [],
   "source": [
    "name = ['cum200604-05.csv','cum200604-06.csv','cum200604-07.csv','cum200604-08.csv','cum200604-09.csv','cum200604-10.csv','cum200604-11.csv','cum200604-12.csv'\n",
    "        ,'cum200604-200701.csv','cum200604-200702.csv','cum200604-200703.csv','cum200604-200704.csv','cum200604-200705.csv','cum200604-200706.csv','cum200604-200707.csv','cum200604-200708.csv','cum200604-200709.csv'\n",
    "        ,'cum200604-200710.csv','cum200604-200711.csv','cum200604-200712.csv','cum200604-200801.csv']"
   ]
  },
  {
   "cell_type": "code",
   "execution_count": 3,
   "metadata": {},
   "outputs": [],
   "source": [
    "cumdata = []"
   ]
  },
  {
   "cell_type": "code",
   "execution_count": 4,
   "metadata": {},
   "outputs": [],
   "source": [
    "for i in name:\n",
    "    cumdata.append(pd.read_csv(i))"
   ]
  },
  {
   "cell_type": "code",
   "execution_count": 5,
   "metadata": {},
   "outputs": [],
   "source": [
    "cleancum = []"
   ]
  },
  {
   "cell_type": "code",
   "execution_count": 6,
   "metadata": {},
   "outputs": [
    {
     "name": "stdout",
     "output_type": "stream",
     "text": [
      "0\n",
      "1\n",
      "2\n",
      "3\n",
      "4\n",
      "5\n",
      "6\n",
      "7\n",
      "8\n",
      "9\n",
      "10\n",
      "11\n",
      "12\n",
      "13\n",
      "14\n",
      "15\n",
      "16\n",
      "17\n",
      "18\n",
      "19\n",
      "20\n"
     ]
    }
   ],
   "source": [
    "df = []\n",
    "for i in range(len(cumdata)):\n",
    "    print(i)\n",
    "    count = 0\n",
    "    while (count<len(cumdata[i])):\n",
    "        #print('index:',count)\n",
    "        try:\n",
    "            d = {}\n",
    "            if(cumdata[i]['CUST_CODE'][count] == cumdata[i]['CUST_CODE'][count+1]):\n",
    "                if(cumdata[i]['LAST_DATE'][count] > cumdata[i]['LAST_DATE'][count+1]):\n",
    "                    d['CUST_CODE'] = cumdata[i]['CUST_CODE'][count]\n",
    "                    d['LAST_WEEK'] = cumdata[i]['LAST_WEEK'][count]\n",
    "                    d['LAST_DATE'] = cumdata[i]['LAST_DATE'][count]\n",
    "                    d['TOTAL_COME'] = cumdata[i]['TOTAL_COME'][count]+cumdata[i]['TOTAL_COME'][count+1]\n",
    "                    d['TOTAL_SPEND'] = cumdata[i]['TOTAL_SPEND'][count]+cumdata[i]['TOTAL_SPEND'][count+1]\n",
    "                    d['CUS_SEN_LA'] = cumdata[i]['CUS_SEN_LA'][count]+cumdata[i]['CUS_SEN_LA'][count+1]\n",
    "                    d['CUS_SEN_MM'] = cumdata[i]['CUS_SEN_MM'][count]+cumdata[i]['CUS_SEN_MM'][count+1]\n",
    "                    d['CUS_SEN_UM'] = cumdata[i]['CUS_SEN_UM'][count]+cumdata[i]['CUS_SEN_UM'][count+1]\n",
    "                    d['CUS_SEN_XX'] = cumdata[i]['CUS_SEN_XX'][count]+cumdata[i]['CUS_SEN_XX'][count+1]\n",
    "                    d['BAS_SIZE_L'] = cumdata[i]['BAS_SIZE_L'][count]+cumdata[i]['BAS_SIZE_L'][count+1]\n",
    "                    d['BAS_SIZE_M'] = cumdata[i]['BAS_SIZE_M'][count]+cumdata[i]['BAS_SIZE_M'][count+1]\n",
    "                    d['BAS_SIZE_S'] = cumdata[i]['BAS_SIZE_S'][count]+cumdata[i]['BAS_SIZE_S'][count+1]\n",
    "                    d['BAS_TYPE_FULL'] = cumdata[i]['BAS_TYPE_FULL'][count]+cumdata[i]['BAS_TYPE_FULL'][count+1]\n",
    "                    d['BAS_TYPE_SMALL'] = cumdata[i]['BAS_TYPE_SMALL'][count]+cumdata[i]['BAS_TYPE_SMALL'][count+1]\n",
    "                    d['BAS_TYPE_TOP'] = cumdata[i]['BAS_TYPE_TOP'][count]+cumdata[i]['BAS_TYPE_TOP'][count+1]\n",
    "                    d['BAS_TYPE_XX'] = cumdata[i]['BAS_TYPE_XX'][count]+cumdata[i]['BAS_TYPE_XX'][count+1]\n",
    "                    d['BAS_DO_FRESH'] = cumdata[i]['BAS_DO_FRESH'][count]+cumdata[i]['BAS_DO_FRESH'][count+1]\n",
    "                    d['BAS_DO_GROCERY'] = cumdata[i]['BAS_DO_GROCERY'][ind]+cumdata[i]['BAS_DO_GROCERY'][count+1]\n",
    "                    d['BAS_DO_MIX'] = cumdata[i]['BAS_DO_MIX'][count]+cumdata[i]['BAS_DO_MIX'][count+1]\n",
    "                    d['BAS_DO_NONFOOD'] = cumdata[i]['BAS_DO_NONFOOD'][count]+cumdata[i]['BAS_DO_NONFOOD'][count+1]\n",
    "                    d['STORE_FOR_LS'] = cumdata[i]['STORE_FOR_LS'][count]+cumdata[i]['STORE_FOR_LS'][count+1]\n",
    "                    d['STORE_FOR_MS'] = cumdata[i]['STORE_FOR_MS'][count]+cumdata[i]['STORE_FOR_MS'][count+1]\n",
    "                    d['STORE_FOR_SS'] = cumdata[i]['STORE_FOR_SS'][count]+cumdata[i]['STORE_FOR_SS'][count+1]\n",
    "                    d['STORE_FOR_XLS'] = cumdata[i]['STORE_FOR_XLS'][count]+cumdata[i]['STORE_FOR_XLS'][count+1]\n",
    "                    d['STORE_FOR_XX'] = cumdata[i]['STORE_FOR_XX'][count]+cumdata[i]['STORE_FOR_XX'][count+1]\n",
    "                    d['Total_CHURN'] =  cumdata[i]['Total_CHURN'][count]+cumdata[i]['Total_CHURN'][count+1]-cumdata[i]['CHURN'][count]\n",
    "                    d['CHURN'] = cumdata[i]['CHURN'][count]\n",
    "                else:\n",
    "                    d['CUST_CODE'] = cumdata[i]['CUST_CODE'][count+1]\n",
    "                    d['LAST_WEEK'] = cumdata[i]['LAST_WEEK'][count+1]\n",
    "                    d['LAST_DATE'] = cumdata[i]['LAST_DATE'][count+1]\n",
    "                    d['TOTAL_COME'] = cumdata[i]['TOTAL_COME'][count]+cumdata[i]['TOTAL_COME'][count+1]\n",
    "                    d['TOTAL_SPEND'] = cumdata[i]['TOTAL_SPEND'][count]+cumdata[i]['TOTAL_SPEND'][count+1]\n",
    "                    d['CUS_SEN_LA'] = cumdata[i]['CUS_SEN_LA'][count]+cumdata[i]['CUS_SEN_LA'][count+1]\n",
    "                    d['CUS_SEN_MM'] = cumdata[i]['CUS_SEN_MM'][count]+cumdata[i]['CUS_SEN_MM'][count+1]\n",
    "                    d['CUS_SEN_UM'] = cumdata[i]['CUS_SEN_UM'][count]+cumdata[i]['CUS_SEN_UM'][count+1]\n",
    "                    d['CUS_SEN_XX'] = cumdata[i]['CUS_SEN_XX'][count]+cumdata[i]['CUS_SEN_XX'][count+1]\n",
    "                    d['BAS_SIZE_L'] = cumdata[i]['BAS_SIZE_L'][count]+cumdata[i]['BAS_SIZE_L'][count+1]\n",
    "                    d['BAS_SIZE_M'] = cumdata[i]['BAS_SIZE_M'][count]+cumdata[i]['BAS_SIZE_M'][count+1]\n",
    "                    d['BAS_SIZE_S'] = cumdata[i]['BAS_SIZE_S'][count]+cumdata[i]['BAS_SIZE_S'][count+1]\n",
    "                    d['BAS_TYPE_FULL'] = cumdata[i]['BAS_TYPE_FULL'][count]+cumdata[i]['BAS_TYPE_FULL'][count+1]\n",
    "                    d['BAS_TYPE_SMALL'] = cumdata[i]['BAS_TYPE_SMALL'][count]+cumdata[i]['BAS_TYPE_SMALL'][count+1]\n",
    "                    d['BAS_TYPE_TOP'] = cumdata[i]['BAS_TYPE_TOP'][count]+cumdata[i]['BAS_TYPE_TOP'][count+1]\n",
    "                    d['BAS_TYPE_XX'] = cumdata[i]['BAS_TYPE_XX'][count]+cumdata[i]['BAS_TYPE_XX'][count+1]\n",
    "                    d['BAS_DO_FRESH'] = cumdata[i]['BAS_DO_FRESH'][count]+cumdata[i]['BAS_DO_FRESH'][count+1]\n",
    "                    d['BAS_DO_GROCERY'] = cumdata[i]['BAS_DO_GROCERY'][ind]+cumdata[i]['BAS_DO_GROCERY'][count+1]\n",
    "                    d['BAS_DO_MIX'] = cumdata[i]['BAS_DO_MIX'][count]+cumdata[10]['BAS_DO_MIX'][count+1]\n",
    "                    d['BAS_DO_NONFOOD'] = cumdata[i]['BAS_DO_NONFOOD'][count]+cumdata[i]['BAS_DO_NONFOOD'][count+1]\n",
    "                    d['STORE_FOR_LS'] = cumdata[i]['STORE_FOR_LS'][count]+cumdata[i]['STORE_FOR_LS'][count+1]\n",
    "                    d['STORE_FOR_MS'] = cumdata[i]['STORE_FOR_MS'][count]+cumdata[i]['STORE_FOR_MS'][count+1]\n",
    "                    d['STORE_FOR_SS'] = cumdata[i]['STORE_FOR_SS'][count]+cumdata[i]['STORE_FOR_SS'][count+1]\n",
    "                    d['STORE_FOR_XLS'] = cumdata[i]['STORE_FOR_XLS'][count]+cumdata[i]['STORE_FOR_XLS'][count+1]\n",
    "                    d['STORE_FOR_XX'] = cumdata[i]['STORE_FOR_XX'][count]+cumdata[i]['STORE_FOR_XX'][count+1]\n",
    "                    d['Total_CHURN'] =  cumdata[i]['Total_CHURN'][count]+cumdata[i]['Total_CHURN'][count+1]-cumdata[i]['CHURN'][count+1]\n",
    "                    d['CHURN'] = cumdata[i]['CHURN'][count+1]\n",
    "                count+=2\n",
    "            else:\n",
    "                d['CUST_CODE'] = cumdata[i]['CUST_CODE'][count]\n",
    "                d['LAST_WEEK'] = cumdata[i]['LAST_WEEK'][count]\n",
    "                d['LAST_DATE'] = cumdata[i]['LAST_DATE'][count]\n",
    "                d['TOTAL_COME'] = cumdata[i]['TOTAL_COME'][count]\n",
    "                d['TOTAL_SPEND'] = cumdata[i]['TOTAL_SPEND'][count]\n",
    "                d['CUS_SEN_LA'] = cumdata[i]['CUS_SEN_LA'][count]\n",
    "                d['CUS_SEN_MM'] = cumdata[i]['CUS_SEN_MM'][count]\n",
    "                d['CUS_SEN_UM'] = cumdata[i]['CUS_SEN_UM'][count]\n",
    "                d['CUS_SEN_XX'] = cumdata[i]['CUS_SEN_XX'][count]\n",
    "                d['BAS_SIZE_L'] = cumdata[i]['BAS_SIZE_L'][count]\n",
    "                d['BAS_SIZE_M'] = cumdata[i]['BAS_SIZE_M'][count]\n",
    "                d['BAS_SIZE_S'] = cumdata[i]['BAS_SIZE_S'][count]\n",
    "                d['BAS_TYPE_FULL'] = cumdata[i]['BAS_TYPE_FULL'][count]\n",
    "                d['BAS_TYPE_SMALL'] = cumdata[i]['BAS_TYPE_SMALL'][count]\n",
    "                d['BAS_TYPE_TOP'] = cumdata[i]['BAS_TYPE_TOP'][count]\n",
    "                d['BAS_TYPE_XX'] = cumdata[i]['BAS_TYPE_XX'][count]\n",
    "                d['BAS_DO_FRESH'] = cumdata[i]['BAS_DO_FRESH'][count]\n",
    "                d['BAS_DO_GROCERY'] = cumdata[i]['BAS_DO_GROCERY'][count]\n",
    "                d['BAS_DO_MIX'] = cumdata[i]['BAS_DO_MIX'][count]\n",
    "                d['BAS_DO_NONFOOD'] = cumdata[i]['BAS_DO_NONFOOD'][count]\n",
    "                d['STORE_FOR_LS'] = cumdata[i]['STORE_FOR_LS'][count]\n",
    "                d['STORE_FOR_MS'] = cumdata[i]['STORE_FOR_MS'][count]\n",
    "                d['STORE_FOR_SS'] = cumdata[i]['STORE_FOR_SS'][count]\n",
    "                d['STORE_FOR_XLS'] = cumdata[i]['STORE_FOR_XLS'][count]\n",
    "                d['STORE_FOR_XX'] = cumdata[i]['STORE_FOR_XX'][count]\n",
    "                d['Total_CHURN'] =  cumdata[i]['Total_CHURN'][count]-cumdata[i]['CHURN'][count]\n",
    "                d['CHURN'] = cumdata[i]['CHURN'][count]\n",
    "                count+=1\n",
    "            df.append(d)\n",
    "\n",
    "        except:\n",
    "            count+=1"
   ]
  },
  {
   "cell_type": "code",
   "execution_count": 7,
   "metadata": {},
   "outputs": [],
   "source": [
    "fuck = pd.DataFrame(df,columns = cumdata[10].columns)"
   ]
  },
  {
   "cell_type": "code",
   "execution_count": 8,
   "metadata": {},
   "outputs": [],
   "source": [
    "fuck.to_csv('CLEAN_DATA_V1.csv',index = False)"
   ]
  },
  {
   "cell_type": "code",
   "execution_count": 9,
   "metadata": {},
   "outputs": [
    {
     "data": {
      "text/html": [
       "<div>\n",
       "<style scoped>\n",
       "    .dataframe tbody tr th:only-of-type {\n",
       "        vertical-align: middle;\n",
       "    }\n",
       "\n",
       "    .dataframe tbody tr th {\n",
       "        vertical-align: top;\n",
       "    }\n",
       "\n",
       "    .dataframe thead th {\n",
       "        text-align: right;\n",
       "    }\n",
       "</style>\n",
       "<table border=\"1\" class=\"dataframe\">\n",
       "  <thead>\n",
       "    <tr style=\"text-align: right;\">\n",
       "      <th></th>\n",
       "      <th>CUST_CODE</th>\n",
       "      <th>LAST_WEEK</th>\n",
       "      <th>LAST_DATE</th>\n",
       "      <th>TOTAL_COME</th>\n",
       "      <th>TOTAL_SPEND</th>\n",
       "      <th>CUS_SEN_LA</th>\n",
       "      <th>CUS_SEN_MM</th>\n",
       "      <th>CUS_SEN_UM</th>\n",
       "      <th>CUS_SEN_XX</th>\n",
       "      <th>BAS_SIZE_L</th>\n",
       "      <th>...</th>\n",
       "      <th>BAS_DO_GROCERY</th>\n",
       "      <th>BAS_DO_MIX</th>\n",
       "      <th>BAS_DO_NONFOOD</th>\n",
       "      <th>STORE_FOR_LS</th>\n",
       "      <th>STORE_FOR_MS</th>\n",
       "      <th>STORE_FOR_SS</th>\n",
       "      <th>STORE_FOR_XLS</th>\n",
       "      <th>STORE_FOR_XX</th>\n",
       "      <th>Total_CHURN</th>\n",
       "      <th>CHURN</th>\n",
       "    </tr>\n",
       "  </thead>\n",
       "  <tbody>\n",
       "    <tr>\n",
       "      <th>0</th>\n",
       "      <td>CUST0000999786</td>\n",
       "      <td>200614</td>\n",
       "      <td>2006-05-31</td>\n",
       "      <td>9</td>\n",
       "      <td>62.81</td>\n",
       "      <td>0</td>\n",
       "      <td>31</td>\n",
       "      <td>0</td>\n",
       "      <td>0</td>\n",
       "      <td>0</td>\n",
       "      <td>...</td>\n",
       "      <td>1</td>\n",
       "      <td>5</td>\n",
       "      <td>1</td>\n",
       "      <td>4</td>\n",
       "      <td>27</td>\n",
       "      <td>0</td>\n",
       "      <td>0</td>\n",
       "      <td>0</td>\n",
       "      <td>0.0</td>\n",
       "      <td>0.0</td>\n",
       "    </tr>\n",
       "    <tr>\n",
       "      <th>1</th>\n",
       "      <td>CUST0000999385</td>\n",
       "      <td>200614</td>\n",
       "      <td>2006-05-29</td>\n",
       "      <td>21</td>\n",
       "      <td>318.18</td>\n",
       "      <td>0</td>\n",
       "      <td>0</td>\n",
       "      <td>241</td>\n",
       "      <td>0</td>\n",
       "      <td>196</td>\n",
       "      <td>...</td>\n",
       "      <td>8</td>\n",
       "      <td>111</td>\n",
       "      <td>0</td>\n",
       "      <td>0</td>\n",
       "      <td>219</td>\n",
       "      <td>2</td>\n",
       "      <td>20</td>\n",
       "      <td>0</td>\n",
       "      <td>0.0</td>\n",
       "      <td>0.0</td>\n",
       "    </tr>\n",
       "    <tr>\n",
       "      <th>2</th>\n",
       "      <td>CUST0000998907</td>\n",
       "      <td>200613</td>\n",
       "      <td>2006-05-24</td>\n",
       "      <td>8</td>\n",
       "      <td>184.66</td>\n",
       "      <td>0</td>\n",
       "      <td>0</td>\n",
       "      <td>110</td>\n",
       "      <td>0</td>\n",
       "      <td>105</td>\n",
       "      <td>...</td>\n",
       "      <td>19</td>\n",
       "      <td>77</td>\n",
       "      <td>0</td>\n",
       "      <td>110</td>\n",
       "      <td>0</td>\n",
       "      <td>0</td>\n",
       "      <td>0</td>\n",
       "      <td>0</td>\n",
       "      <td>0.0</td>\n",
       "      <td>0.0</td>\n",
       "    </tr>\n",
       "    <tr>\n",
       "      <th>3</th>\n",
       "      <td>CUST0000998017</td>\n",
       "      <td>200613</td>\n",
       "      <td>2006-05-25</td>\n",
       "      <td>9</td>\n",
       "      <td>114.51</td>\n",
       "      <td>32</td>\n",
       "      <td>0</td>\n",
       "      <td>0</td>\n",
       "      <td>0</td>\n",
       "      <td>11</td>\n",
       "      <td>...</td>\n",
       "      <td>1</td>\n",
       "      <td>23</td>\n",
       "      <td>2</td>\n",
       "      <td>0</td>\n",
       "      <td>0</td>\n",
       "      <td>32</td>\n",
       "      <td>0</td>\n",
       "      <td>1</td>\n",
       "      <td>0.0</td>\n",
       "      <td>0.0</td>\n",
       "    </tr>\n",
       "    <tr>\n",
       "      <th>4</th>\n",
       "      <td>CUST0000997627</td>\n",
       "      <td>200613</td>\n",
       "      <td>2006-05-28</td>\n",
       "      <td>10</td>\n",
       "      <td>66.26</td>\n",
       "      <td>67</td>\n",
       "      <td>0</td>\n",
       "      <td>0</td>\n",
       "      <td>0</td>\n",
       "      <td>37</td>\n",
       "      <td>...</td>\n",
       "      <td>0</td>\n",
       "      <td>28</td>\n",
       "      <td>0</td>\n",
       "      <td>6</td>\n",
       "      <td>0</td>\n",
       "      <td>61</td>\n",
       "      <td>0</td>\n",
       "      <td>0</td>\n",
       "      <td>0.0</td>\n",
       "      <td>0.0</td>\n",
       "    </tr>\n",
       "  </tbody>\n",
       "</table>\n",
       "<p>5 rows × 27 columns</p>\n",
       "</div>"
      ],
      "text/plain": [
       "        CUST_CODE  LAST_WEEK   LAST_DATE  TOTAL_COME  TOTAL_SPEND  CUS_SEN_LA  \\\n",
       "0  CUST0000999786     200614  2006-05-31           9        62.81           0   \n",
       "1  CUST0000999385     200614  2006-05-29          21       318.18           0   \n",
       "2  CUST0000998907     200613  2006-05-24           8       184.66           0   \n",
       "3  CUST0000998017     200613  2006-05-25           9       114.51          32   \n",
       "4  CUST0000997627     200613  2006-05-28          10        66.26          67   \n",
       "\n",
       "   CUS_SEN_MM  CUS_SEN_UM  CUS_SEN_XX  BAS_SIZE_L  ...    BAS_DO_GROCERY  \\\n",
       "0          31           0           0           0  ...                 1   \n",
       "1           0         241           0         196  ...                 8   \n",
       "2           0         110           0         105  ...                19   \n",
       "3           0           0           0          11  ...                 1   \n",
       "4           0           0           0          37  ...                 0   \n",
       "\n",
       "   BAS_DO_MIX  BAS_DO_NONFOOD  STORE_FOR_LS  STORE_FOR_MS  STORE_FOR_SS  \\\n",
       "0           5               1             4            27             0   \n",
       "1         111               0             0           219             2   \n",
       "2          77               0           110             0             0   \n",
       "3          23               2             0             0            32   \n",
       "4          28               0             6             0            61   \n",
       "\n",
       "   STORE_FOR_XLS  STORE_FOR_XX  Total_CHURN  CHURN  \n",
       "0              0             0          0.0    0.0  \n",
       "1             20             0          0.0    0.0  \n",
       "2              0             0          0.0    0.0  \n",
       "3              0             1          0.0    0.0  \n",
       "4              0             0          0.0    0.0  \n",
       "\n",
       "[5 rows x 27 columns]"
      ]
     },
     "execution_count": 9,
     "metadata": {},
     "output_type": "execute_result"
    }
   ],
   "source": [
    "fuck.head()"
   ]
  },
  {
   "cell_type": "code",
   "execution_count": 10,
   "metadata": {},
   "outputs": [],
   "source": [
    "def avgspend(cus):\n",
    "    return cus['TOTAL_SPEND']/cus['TOTAL_COME']"
   ]
  },
  {
   "cell_type": "code",
   "execution_count": 11,
   "metadata": {},
   "outputs": [],
   "source": [
    "fuck['AVG_SPEND'] = fuck.apply(avgspend,axis = 1)"
   ]
  },
  {
   "cell_type": "code",
   "execution_count": 46,
   "metadata": {},
   "outputs": [
    {
     "data": {
      "text/html": [
       "<div>\n",
       "<style scoped>\n",
       "    .dataframe tbody tr th:only-of-type {\n",
       "        vertical-align: middle;\n",
       "    }\n",
       "\n",
       "    .dataframe tbody tr th {\n",
       "        vertical-align: top;\n",
       "    }\n",
       "\n",
       "    .dataframe thead th {\n",
       "        text-align: right;\n",
       "    }\n",
       "</style>\n",
       "<table border=\"1\" class=\"dataframe\">\n",
       "  <thead>\n",
       "    <tr style=\"text-align: right;\">\n",
       "      <th></th>\n",
       "      <th>CUST_CODE</th>\n",
       "      <th>LAST_WEEK</th>\n",
       "      <th>LAST_DATE</th>\n",
       "      <th>TOTAL_COME</th>\n",
       "      <th>TOTAL_SPEND</th>\n",
       "      <th>CUS_SEN_LA</th>\n",
       "      <th>CUS_SEN_MM</th>\n",
       "      <th>CUS_SEN_UM</th>\n",
       "      <th>CUS_SEN_XX</th>\n",
       "      <th>BAS_SIZE_L</th>\n",
       "      <th>...</th>\n",
       "      <th>BAS_DO_MIX</th>\n",
       "      <th>BAS_DO_NONFOOD</th>\n",
       "      <th>STORE_FOR_LS</th>\n",
       "      <th>STORE_FOR_MS</th>\n",
       "      <th>STORE_FOR_SS</th>\n",
       "      <th>STORE_FOR_XLS</th>\n",
       "      <th>STORE_FOR_XX</th>\n",
       "      <th>Total_CHURN</th>\n",
       "      <th>CHURN</th>\n",
       "      <th>AVG_SPEND</th>\n",
       "    </tr>\n",
       "  </thead>\n",
       "  <tbody>\n",
       "    <tr>\n",
       "      <th>0</th>\n",
       "      <td>CUST0000999786</td>\n",
       "      <td>200614</td>\n",
       "      <td>2006-05-31</td>\n",
       "      <td>9</td>\n",
       "      <td>62.81</td>\n",
       "      <td>0</td>\n",
       "      <td>31</td>\n",
       "      <td>0</td>\n",
       "      <td>0</td>\n",
       "      <td>0</td>\n",
       "      <td>...</td>\n",
       "      <td>5</td>\n",
       "      <td>1</td>\n",
       "      <td>4</td>\n",
       "      <td>27</td>\n",
       "      <td>0</td>\n",
       "      <td>0</td>\n",
       "      <td>0</td>\n",
       "      <td>0.0</td>\n",
       "      <td>0.0</td>\n",
       "      <td>6.978889</td>\n",
       "    </tr>\n",
       "    <tr>\n",
       "      <th>1</th>\n",
       "      <td>CUST0000999385</td>\n",
       "      <td>200614</td>\n",
       "      <td>2006-05-29</td>\n",
       "      <td>21</td>\n",
       "      <td>318.18</td>\n",
       "      <td>0</td>\n",
       "      <td>0</td>\n",
       "      <td>241</td>\n",
       "      <td>0</td>\n",
       "      <td>196</td>\n",
       "      <td>...</td>\n",
       "      <td>111</td>\n",
       "      <td>0</td>\n",
       "      <td>0</td>\n",
       "      <td>219</td>\n",
       "      <td>2</td>\n",
       "      <td>20</td>\n",
       "      <td>0</td>\n",
       "      <td>0.0</td>\n",
       "      <td>0.0</td>\n",
       "      <td>15.151429</td>\n",
       "    </tr>\n",
       "    <tr>\n",
       "      <th>2</th>\n",
       "      <td>CUST0000998907</td>\n",
       "      <td>200613</td>\n",
       "      <td>2006-05-24</td>\n",
       "      <td>8</td>\n",
       "      <td>184.66</td>\n",
       "      <td>0</td>\n",
       "      <td>0</td>\n",
       "      <td>110</td>\n",
       "      <td>0</td>\n",
       "      <td>105</td>\n",
       "      <td>...</td>\n",
       "      <td>77</td>\n",
       "      <td>0</td>\n",
       "      <td>110</td>\n",
       "      <td>0</td>\n",
       "      <td>0</td>\n",
       "      <td>0</td>\n",
       "      <td>0</td>\n",
       "      <td>0.0</td>\n",
       "      <td>0.0</td>\n",
       "      <td>23.082500</td>\n",
       "    </tr>\n",
       "    <tr>\n",
       "      <th>3</th>\n",
       "      <td>CUST0000998017</td>\n",
       "      <td>200613</td>\n",
       "      <td>2006-05-25</td>\n",
       "      <td>9</td>\n",
       "      <td>114.51</td>\n",
       "      <td>32</td>\n",
       "      <td>0</td>\n",
       "      <td>0</td>\n",
       "      <td>0</td>\n",
       "      <td>11</td>\n",
       "      <td>...</td>\n",
       "      <td>23</td>\n",
       "      <td>2</td>\n",
       "      <td>0</td>\n",
       "      <td>0</td>\n",
       "      <td>32</td>\n",
       "      <td>0</td>\n",
       "      <td>1</td>\n",
       "      <td>0.0</td>\n",
       "      <td>0.0</td>\n",
       "      <td>12.723333</td>\n",
       "    </tr>\n",
       "    <tr>\n",
       "      <th>4</th>\n",
       "      <td>CUST0000997627</td>\n",
       "      <td>200613</td>\n",
       "      <td>2006-05-28</td>\n",
       "      <td>10</td>\n",
       "      <td>66.26</td>\n",
       "      <td>67</td>\n",
       "      <td>0</td>\n",
       "      <td>0</td>\n",
       "      <td>0</td>\n",
       "      <td>37</td>\n",
       "      <td>...</td>\n",
       "      <td>28</td>\n",
       "      <td>0</td>\n",
       "      <td>6</td>\n",
       "      <td>0</td>\n",
       "      <td>61</td>\n",
       "      <td>0</td>\n",
       "      <td>0</td>\n",
       "      <td>0.0</td>\n",
       "      <td>0.0</td>\n",
       "      <td>6.626000</td>\n",
       "    </tr>\n",
       "  </tbody>\n",
       "</table>\n",
       "<p>5 rows × 28 columns</p>\n",
       "</div>"
      ],
      "text/plain": [
       "        CUST_CODE  LAST_WEEK   LAST_DATE  TOTAL_COME  TOTAL_SPEND  CUS_SEN_LA  \\\n",
       "0  CUST0000999786     200614  2006-05-31           9        62.81           0   \n",
       "1  CUST0000999385     200614  2006-05-29          21       318.18           0   \n",
       "2  CUST0000998907     200613  2006-05-24           8       184.66           0   \n",
       "3  CUST0000998017     200613  2006-05-25           9       114.51          32   \n",
       "4  CUST0000997627     200613  2006-05-28          10        66.26          67   \n",
       "\n",
       "   CUS_SEN_MM  CUS_SEN_UM  CUS_SEN_XX  BAS_SIZE_L    ...      BAS_DO_MIX  \\\n",
       "0          31           0           0           0    ...               5   \n",
       "1           0         241           0         196    ...             111   \n",
       "2           0         110           0         105    ...              77   \n",
       "3           0           0           0          11    ...              23   \n",
       "4           0           0           0          37    ...              28   \n",
       "\n",
       "   BAS_DO_NONFOOD  STORE_FOR_LS  STORE_FOR_MS  STORE_FOR_SS  STORE_FOR_XLS  \\\n",
       "0               1             4            27             0              0   \n",
       "1               0             0           219             2             20   \n",
       "2               0           110             0             0              0   \n",
       "3               2             0             0            32              0   \n",
       "4               0             6             0            61              0   \n",
       "\n",
       "   STORE_FOR_XX  Total_CHURN  CHURN  AVG_SPEND  \n",
       "0             0          0.0    0.0   6.978889  \n",
       "1             0          0.0    0.0  15.151429  \n",
       "2             0          0.0    0.0  23.082500  \n",
       "3             1          0.0    0.0  12.723333  \n",
       "4             0          0.0    0.0   6.626000  \n",
       "\n",
       "[5 rows x 28 columns]"
      ]
     },
     "execution_count": 46,
     "metadata": {},
     "output_type": "execute_result"
    }
   ],
   "source": [
    "fuck.head()"
   ]
  },
  {
   "cell_type": "code",
   "execution_count": 47,
   "metadata": {},
   "outputs": [],
   "source": [
    "test_data = pd.read_csv('testdata.csv')\n",
    "clean = test_data.fillna(0)"
   ]
  },
  {
   "cell_type": "code",
   "execution_count": 282,
   "metadata": {},
   "outputs": [],
   "source": [
    "clean['AVG_SPEND'] = clean.apply(avgspend,axis =1)"
   ]
  },
  {
   "cell_type": "code",
   "execution_count": 317,
   "metadata": {},
   "outputs": [],
   "source": [
    "x_test = clean[[ 'LAST_WEEK','TOTAL_COME', 'TOTAL_SPEND',\n",
    "       'CUS_SEN_LA', 'CUS_SEN_MM', 'CUS_SEN_UM', 'CUS_SEN_XX', 'BAS_SIZE_L',\n",
    "       'BAS_SIZE_M', 'BAS_SIZE_S', 'BAS_TYPE_FULL', 'BAS_TYPE_SMALL',\n",
    "       'BAS_TYPE_TOP', 'BAS_TYPE_XX', 'BAS_DO_FRESH', 'BAS_DO_GROCERY',\n",
    "       'BAS_DO_MIX', 'BAS_DO_NONFOOD', 'STORE_FOR_LS', 'STORE_FOR_MS',\n",
    "       'STORE_FOR_SS', 'STORE_FOR_XLS', 'STORE_FOR_XX',\n",
    "       'AVG_SPEND']]"
   ]
  },
  {
   "cell_type": "code",
   "execution_count": 318,
   "metadata": {},
   "outputs": [
    {
     "data": {
      "text/plain": [
       "Index(['CUST_CODE', 'LAST_WEEK', 'LAST_DATE', 'TOTAL_COME', 'TOTAL_SPEND',\n",
       "       'CUS_SEN_LA', 'CUS_SEN_MM', 'CUS_SEN_UM', 'CUS_SEN_XX', 'BAS_SIZE_L',\n",
       "       'BAS_SIZE_M', 'BAS_SIZE_S', 'BAS_TYPE_FULL', 'BAS_TYPE_SMALL',\n",
       "       'BAS_TYPE_TOP', 'BAS_TYPE_XX', 'BAS_DO_FRESH', 'BAS_DO_GROCERY',\n",
       "       'BAS_DO_MIX', 'BAS_DO_NONFOOD', 'STORE_FOR_LS', 'STORE_FOR_MS',\n",
       "       'STORE_FOR_SS', 'STORE_FOR_XLS', 'STORE_FOR_XX', 'Total_CHURN', 'CHURN',\n",
       "       'AVG_SPEND'],\n",
       "      dtype='object')"
      ]
     },
     "execution_count": 318,
     "metadata": {},
     "output_type": "execute_result"
    }
   ],
   "source": [
    "fuck.columns"
   ]
  },
  {
   "cell_type": "code",
   "execution_count": 319,
   "metadata": {},
   "outputs": [],
   "source": [
    "from sklearn.cross_validation import train_test_split\n",
    "from sklearn.linear_model import LogisticRegression\n",
    "from sklearn.tree import DecisionTreeClassifier\n",
    "from sklearn.ensemble import RandomForestClassifier"
   ]
  },
  {
   "cell_type": "code",
   "execution_count": 320,
   "metadata": {},
   "outputs": [],
   "source": [
    "X = fuck[['LAST_WEEK','TOTAL_COME', 'TOTAL_SPEND',\n",
    "       'CUS_SEN_LA', 'CUS_SEN_MM', 'CUS_SEN_UM', 'CUS_SEN_XX', 'BAS_SIZE_L',\n",
    "       'BAS_SIZE_M', 'BAS_SIZE_S', 'BAS_TYPE_FULL', 'BAS_TYPE_SMALL',\n",
    "       'BAS_TYPE_TOP', 'BAS_TYPE_XX', 'BAS_DO_FRESH', 'BAS_DO_GROCERY',\n",
    "       'BAS_DO_MIX', 'BAS_DO_NONFOOD', 'STORE_FOR_LS', 'STORE_FOR_MS',\n",
    "       'STORE_FOR_SS', 'STORE_FOR_XLS', 'STORE_FOR_XX',\n",
    "       'AVG_SPEND']]\n",
    "Y = fuck['CHURN']"
   ]
  },
  {
   "cell_type": "code",
   "execution_count": null,
   "metadata": {},
   "outputs": [],
   "source": []
  },
  {
   "cell_type": "code",
   "execution_count": 321,
   "metadata": {},
   "outputs": [],
   "source": [
    "xtrain,xtest,ytrain,ytest = train_test_split(X,Y,test_size = 0.2,random_state=1)"
   ]
  },
  {
   "cell_type": "code",
   "execution_count": 322,
   "metadata": {},
   "outputs": [],
   "source": [
    "logmodel = LogisticRegression(penalty='l1')"
   ]
  },
  {
   "cell_type": "code",
   "execution_count": 323,
   "metadata": {},
   "outputs": [],
   "source": [
    "clf = DecisionTreeClassifier()"
   ]
  },
  {
   "cell_type": "code",
   "execution_count": 324,
   "metadata": {},
   "outputs": [],
   "source": [
    "rfclf = RandomForestClassifier()"
   ]
  },
  {
   "cell_type": "code",
   "execution_count": 325,
   "metadata": {},
   "outputs": [
    {
     "data": {
      "text/plain": [
       "LogisticRegression(C=1.0, class_weight=None, dual=False, fit_intercept=True,\n",
       "          intercept_scaling=1, max_iter=100, multi_class='ovr', n_jobs=1,\n",
       "          penalty='l1', random_state=None, solver='liblinear', tol=0.0001,\n",
       "          verbose=0, warm_start=False)"
      ]
     },
     "execution_count": 325,
     "metadata": {},
     "output_type": "execute_result"
    }
   ],
   "source": [
    "logmodel.fit(xtrain,ytrain)"
   ]
  },
  {
   "cell_type": "code",
   "execution_count": 330,
   "metadata": {},
   "outputs": [
    {
     "data": {
      "text/plain": [
       "0.8745269631031221"
      ]
     },
     "execution_count": 330,
     "metadata": {},
     "output_type": "execute_result"
    }
   ],
   "source": [
    "logmodel.score(xtest,ytest)"
   ]
  },
  {
   "cell_type": "code",
   "execution_count": 326,
   "metadata": {},
   "outputs": [
    {
     "data": {
      "text/plain": [
       "DecisionTreeClassifier(class_weight=None, criterion='gini', max_depth=None,\n",
       "            max_features=None, max_leaf_nodes=None,\n",
       "            min_impurity_decrease=0.0, min_impurity_split=None,\n",
       "            min_samples_leaf=1, min_samples_split=2,\n",
       "            min_weight_fraction_leaf=0.0, presort=False, random_state=None,\n",
       "            splitter='best')"
      ]
     },
     "execution_count": 326,
     "metadata": {},
     "output_type": "execute_result"
    }
   ],
   "source": [
    "clf.fit(xtrain,ytrain)"
   ]
  },
  {
   "cell_type": "code",
   "execution_count": 329,
   "metadata": {},
   "outputs": [
    {
     "data": {
      "text/plain": [
       "0.9889427625354777"
      ]
     },
     "execution_count": 329,
     "metadata": {},
     "output_type": "execute_result"
    }
   ],
   "source": [
    "clf.score(xtest,ytest)"
   ]
  },
  {
   "cell_type": "code",
   "execution_count": 327,
   "metadata": {},
   "outputs": [
    {
     "data": {
      "text/plain": [
       "RandomForestClassifier(bootstrap=True, class_weight=None, criterion='gini',\n",
       "            max_depth=None, max_features='auto', max_leaf_nodes=None,\n",
       "            min_impurity_decrease=0.0, min_impurity_split=None,\n",
       "            min_samples_leaf=1, min_samples_split=2,\n",
       "            min_weight_fraction_leaf=0.0, n_estimators=10, n_jobs=1,\n",
       "            oob_score=False, random_state=None, verbose=0,\n",
       "            warm_start=False)"
      ]
     },
     "execution_count": 327,
     "metadata": {},
     "output_type": "execute_result"
    }
   ],
   "source": [
    "rfclf.fit(xtrain,ytrain)"
   ]
  },
  {
   "cell_type": "code",
   "execution_count": 328,
   "metadata": {},
   "outputs": [
    {
     "data": {
      "text/plain": [
       "0.9911896877956481"
      ]
     },
     "execution_count": 328,
     "metadata": {},
     "output_type": "execute_result"
    }
   ],
   "source": [
    "rfclf.score(xtest,ytest)"
   ]
  },
  {
   "cell_type": "code",
   "execution_count": 349,
   "metadata": {},
   "outputs": [],
   "source": [
    "from sklearn.model_selection import GridSearchCV"
   ]
  },
  {
   "cell_type": "code",
   "execution_count": 352,
   "metadata": {},
   "outputs": [],
   "source": [
    "penalty  = ['l1','l2']\n",
    "C = np.logspace(0,1,4,10)\n",
    "hyperparameters =dict(C=C,penalty = penalty)"
   ]
  },
  {
   "cell_type": "code",
   "execution_count": null,
   "metadata": {},
   "outputs": [],
   "source": []
  },
  {
   "cell_type": "code",
   "execution_count": 359,
   "metadata": {},
   "outputs": [],
   "source": [
    "loggrid = GridSearchCV(LogisticRegression(),param_grid= hyperparameters,cv = 5,verbose=0)"
   ]
  },
  {
   "cell_type": "code",
   "execution_count": 360,
   "metadata": {},
   "outputs": [],
   "source": [
    "loggridmo = loggrid.fit(xtrain,ytrain)"
   ]
  },
  {
   "cell_type": "code",
   "execution_count": 363,
   "metadata": {},
   "outputs": [
    {
     "data": {
      "text/plain": [
       "0.874763481551561"
      ]
     },
     "execution_count": 363,
     "metadata": {},
     "output_type": "execute_result"
    }
   ],
   "source": [
    "loggridmo.score(xtest,ytest)"
   ]
  },
  {
   "cell_type": "code",
   "execution_count": 374,
   "metadata": {},
   "outputs": [],
   "source": [
    "max_depth = [5,10,15,20,25]\n",
    "max_features = [1,5,10,15,20]\n",
    "tune = dict(max_depth = max_depth,max_features=max_features)"
   ]
  },
  {
   "cell_type": "code",
   "execution_count": 375,
   "metadata": {},
   "outputs": [],
   "source": [
    "clfdegrid =GridSearchCV(DecisionTreeClassifier(),param_grid=tune,cv = 5,verbose = 0)"
   ]
  },
  {
   "cell_type": "code",
   "execution_count": 376,
   "metadata": {},
   "outputs": [],
   "source": [
    "clfdegridmo = clfdegrid.fit(xtrain,ytrain)"
   ]
  },
  {
   "cell_type": "code",
   "execution_count": 377,
   "metadata": {},
   "outputs": [
    {
     "data": {
      "text/plain": [
       "0.9878192999053926"
      ]
     },
     "execution_count": 377,
     "metadata": {},
     "output_type": "execute_result"
    }
   ],
   "source": [
    "clfdegridmo.score(xtest,ytest)"
   ]
  },
  {
   "cell_type": "code",
   "execution_count": 379,
   "metadata": {},
   "outputs": [],
   "source": [
    "logpredict = loggridmo.predict(xtest)"
   ]
  },
  {
   "cell_type": "code",
   "execution_count": 378,
   "metadata": {},
   "outputs": [],
   "source": [
    "clfpredict = clfdegridmo.predict(xtest)"
   ]
  },
  {
   "cell_type": "code",
   "execution_count": 333,
   "metadata": {},
   "outputs": [],
   "source": [
    "rfclfpredict = rfclf.predict(xtest)"
   ]
  },
  {
   "cell_type": "code",
   "execution_count": 334,
   "metadata": {},
   "outputs": [],
   "source": [
    "from sklearn.metrics import classification_report,confusion_matrix"
   ]
  },
  {
   "cell_type": "code",
   "execution_count": 380,
   "metadata": {},
   "outputs": [
    {
     "name": "stdout",
     "output_type": "stream",
     "text": [
      "Logistic Regression\n",
      "             precision    recall  f1-score   support\n",
      "\n",
      "        0.0       0.94      0.89      0.91     12292\n",
      "        1.0       0.74      0.85      0.79      4620\n",
      "\n",
      "avg / total       0.88      0.87      0.88     16912\n",
      "\n"
     ]
    }
   ],
   "source": [
    "print(\"Logistic Regression\")\n",
    "print(classification_report(ytest,logpredict))"
   ]
  },
  {
   "cell_type": "code",
   "execution_count": 381,
   "metadata": {},
   "outputs": [
    {
     "name": "stdout",
     "output_type": "stream",
     "text": [
      "[[10883  1409]\n",
      " [  709  3911]]\n"
     ]
    }
   ],
   "source": [
    "print(confusion_matrix(ytest,logpredict))"
   ]
  },
  {
   "cell_type": "code",
   "execution_count": 382,
   "metadata": {},
   "outputs": [
    {
     "name": "stdout",
     "output_type": "stream",
     "text": [
      "DecisionTreeClassifier\n",
      "             precision    recall  f1-score   support\n",
      "\n",
      "        0.0       1.00      0.99      0.99     12292\n",
      "        1.0       0.97      0.99      0.98      4620\n",
      "\n",
      "avg / total       0.99      0.99      0.99     16912\n",
      "\n"
     ]
    }
   ],
   "source": [
    "print(\"DecisionTreeClassifier\")\n",
    "print(classification_report(ytest,clfpredict))"
   ]
  },
  {
   "cell_type": "code",
   "execution_count": 383,
   "metadata": {},
   "outputs": [
    {
     "name": "stdout",
     "output_type": "stream",
     "text": [
      "[[12143   149]\n",
      " [   57  4563]]\n"
     ]
    }
   ],
   "source": [
    "print(confusion_matrix(ytest,clfpredict))"
   ]
  },
  {
   "cell_type": "code",
   "execution_count": 384,
   "metadata": {},
   "outputs": [
    {
     "name": "stdout",
     "output_type": "stream",
     "text": [
      "RandomForestClassifier\n",
      "             precision    recall  f1-score   support\n",
      "\n",
      "        0.0       0.99      0.99      0.99     12292\n",
      "        1.0       0.98      0.99      0.98      4620\n",
      "\n",
      "avg / total       0.99      0.99      0.99     16912\n",
      "\n"
     ]
    }
   ],
   "source": [
    "print(\"RandomForestClassifier\")\n",
    "print(classification_report(ytest,rfclfpredict))"
   ]
  },
  {
   "cell_type": "code",
   "execution_count": 341,
   "metadata": {},
   "outputs": [
    {
     "name": "stdout",
     "output_type": "stream",
     "text": [
      "[[12205    87]\n",
      " [   62  4558]]\n"
     ]
    }
   ],
   "source": [
    "print(confusion_matrix(ytest,rfclfpredict))"
   ]
  },
  {
   "cell_type": "code",
   "execution_count": 385,
   "metadata": {},
   "outputs": [],
   "source": [
    "testpredict_log = logmodel.predict(x_test)\n",
    "testpredict_dec = clf.predict(x_test)\n",
    "testpredict_rf = rfclf.predict(x_test)"
   ]
  },
  {
   "cell_type": "code",
   "execution_count": 386,
   "metadata": {},
   "outputs": [],
   "source": [
    "ANSLOG = pd.DataFrame()\n",
    "ANSDEC = pd.DataFrame()\n",
    "ANSRF = pd.DataFrame()"
   ]
  },
  {
   "cell_type": "code",
   "execution_count": 387,
   "metadata": {},
   "outputs": [],
   "source": [
    "ANSLOG['CUS_CODE'] = clean['CUST_CODE']\n",
    "ANSDEC['CUS_CODE'] = clean['CUST_CODE']\n",
    "ANSRF['CUS_CODE'] = clean['CUST_CODE']\n",
    "ANSLOG['ANS'] = testpredict_log\n",
    "ANSDEC['ANS'] = testpredict_dec\n",
    "ANSRF['ANS'] = testpredict_rf"
   ]
  },
  {
   "cell_type": "code",
   "execution_count": 389,
   "metadata": {},
   "outputs": [],
   "source": [
    "version = 'V12'\n",
    "LOG = 'DONDONCHURN_LOG'+version+'.csv'\n",
    "DEC = 'DONDONCHURN_DEC'+version+'.csv'\n",
    "RF = 'DONDONCHURN_RF'+version+'.csv'"
   ]
  },
  {
   "cell_type": "code",
   "execution_count": 390,
   "metadata": {},
   "outputs": [],
   "source": [
    "ANSLOG.to_csv(LOG,index=False)\n",
    "ANSDEC.to_csv(DEC,index=False)\n",
    "ANSRF.to_csv(RF,index = False)"
   ]
  },
  {
   "cell_type": "code",
   "execution_count": 312,
   "metadata": {},
   "outputs": [],
   "source": [
    "import matplotlib.pyplot as plt\n",
    "import seaborn as sea"
   ]
  },
  {
   "cell_type": "code",
   "execution_count": 313,
   "metadata": {},
   "outputs": [
    {
     "data": {
      "text/plain": [
       "<seaborn.axisgrid.PairGrid at 0x13ab269b1d0>"
      ]
     },
     "execution_count": 313,
     "metadata": {},
     "output_type": "execute_result"
    },
    {
     "data": {
      "text/plain": [
       "<Figure size 2160x2160 with 0 Axes>"
      ]
     },
     "metadata": {},
     "output_type": "display_data"
    },
    {
     "data": {
      "image/png": "[encoded data removed]",
      "text/plain": [
       "<Figure size 771.875x720 with 20 Axes>"
      ]
     },
     "metadata": {},
     "output_type": "display_data"
    }
   ],
   "source": [
    "plt.figure(figsize=(30,30))\n",
    "sea.pairplot(data = fuck[['TOTAL_COME', 'TOTAL_SPEND','Total_CHURN','CHURN']],hue = 'CHURN')"
   ]
  },
  {
   "cell_type": "code",
   "execution_count": null,
   "metadata": {},
   "outputs": [],
   "source": []
  }
 ],
 "metadata": {
  "kernelspec": {
   "display_name": "Python 3",
   "language": "python",
   "name": "python3"
  },
  "language_info": {
   "codemirror_mode": {
    "name": "ipython",
    "version": 3
   },
   "file_extension": ".py",
   "mimetype": "text/x-python",
   "name": "python",
   "nbconvert_exporter": "python",
   "pygments_lexer": "ipython3",
   "version": "3.5.2"
  }
 },
 "nbformat": 4,
 "nbformat_minor": 2
}
